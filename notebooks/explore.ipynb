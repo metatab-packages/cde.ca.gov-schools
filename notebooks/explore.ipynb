{
 "cells": [
  {
   "cell_type": "code",
   "execution_count": 1,
   "metadata": {},
   "outputs": [],
   "source": [
    "import seaborn as sns\n",
    "import metapack as mp\n",
    "import pandas as pd\n",
    "import numpy as np\n",
    "import matplotlib.pyplot as plt\n",
    "from IPython.display import display \n",
    "\n",
    "%matplotlib inline\n",
    "sns.set_context('notebook')\n",
    "mp.jupyter.init()\n"
   ]
  },
  {
   "cell_type": "code",
   "execution_count": 2,
   "metadata": {},
   "outputs": [
    {
     "data": {
      "text/html": [
       "<h1>California Schools and Districts</h1>\n",
       "<p><code>cde.ca.gov-schools-2.1.1</code> Last Update: 2022-06-17T15:38:10</p>\n",
       "<p><em>California public schools, private schools and  districts.</em></p>\n",
       "<!-- start_license -->\n",
       "\n",
       "<h2>License</h2>\n",
       "<p>The source data, from the California Department of Education, does not\n",
       "explicitly reference a license, but since the top-level website for California\n",
       "indicates that data published on the State of California website <a href=\"https://www.ca.gov/use/\">is\n",
       "generally in the public domain</a>,  we assume it is in\n",
       "the public domain. Derived data included in this package is also in the public domain. Metadata in this package ( contained in the <code>metadata.csv</code> file ) is\n",
       "derived from metadata for the source package, and is also in the public domain. </p>\n",
       "<p>Programs used for data transformation (contained in the <code>notebooks</code> directory), are Copyright 2021 Civic Knowledge, and\n",
       "are relased under the <a href=\"https://creativecommons.org/licenses/by-sa/4.0/\">Creative Commons Attribution-ShareAlike 4.0 International\n",
       "License.</a></p>\n",
       "<!-- end_license -->\n",
       "\n",
       "<h2>Documentation Links</h2>\n",
       "<ul>\n",
       "<li><a href=\"https://www.cde.ca.gov/ds/si/ds/pubschls.asp\">Public Schools Download Page</a> </li>\n",
       "<li><a href=\"https://www.cde.ca.gov/ds/si/ps/index.asp\">Private Schools Download Page</a> </li>\n",
       "</ul>\n",
       "<h2>Contacts</h2>\n",
       "<ul>\n",
       "<li><strong>Wrangler</strong> <a href=\"mailto:eric@civicknowledge.com\">Eric Busboom</a>, <a href=\"http://civicknowledge.com\">Civic Knowledge</a></li>\n",
       "</ul>\n",
       "<h2>Resources</h2>\n",
       "<ul>\n",
       "<li><strong> <a href=\"data/public_schools.csv\">public_schools</a></strong>. </li>\n",
       "<li><strong> <a href=\"data/school_districts.csv\">school_districts</a></strong>. </li>\n",
       "<li><strong> <a href=\"data/private_schools.csv\">private_schools</a></strong>. </li>\n",
       "</ul>\n",
       "<h2>References</h2>\n",
       "<p><ul><li> <strong><a href=\"https://www.cde.ca.gov/ds/si/ps/documents/privateschools1819.xlsx#headers=2&start=3\">private_schools_2018</a></strong>. </li><li> <strong><a href=\"https://www.cde.ca.gov/ds/si/ps/documents/privateschools1920.xlsx#headers=2&start=3\">private_schools_2019</a></strong>. </li><li> <strong><a href=\"https://www.cde.ca.gov/ds/si/ps/documents/privateschools2021.xlsx#headers=2&start=3\">private_schools_2020</a></strong>. </li><li> <strong><a href=\"https://www.cde.ca.gov/ds/si/ps/documents/privateschools2122.xlsx#headers=2&start=3\">private_schools_2021</a></strong>. </li><ul></p>"
      ],
      "text/plain": [
       "# California Schools and Districts\n",
       "`cde.ca.gov-schools-2.1.1` Last Update: 2022-06-17T15:38:10\n",
       "\n",
       "_California public schools, private schools and  districts._\n",
       "\n",
       "\n",
       "<!-- start_license -->\n",
       "## License\n",
       "\n",
       "The source data, from the California Department of Education, does not\n",
       "explicitly reference a license, but since the top-level website for California\n",
       "indicates that data published on the State of California website [is\n",
       "generally in the public domain](https://www.ca.gov/use/),  we assume it is in\n",
       "the public domain. Derived data included in this package is also in the public domain. Metadata in this package ( contained in the ``metadata.csv`` file ) is\n",
       "derived from metadata for the source package, and is also in the public domain. \n",
       "\n",
       "Programs used for data transformation (contained in the ``notebooks`` directory), are Copyright 2021 Civic Knowledge, and\n",
       "are relased under the [Creative Commons Attribution-ShareAlike 4.0 International\n",
       "License.](https://creativecommons.org/licenses/by-sa/4.0/)\n",
       "\n",
       "<!-- end_license -->\n",
       "## Documentation Links\n",
       "\n",
       "* [Public Schools Download Page](https://www.cde.ca.gov/ds/si/ds/pubschls.asp) \n",
       "* [Private Schools Download Page](https://www.cde.ca.gov/ds/si/ps/index.asp) \n",
       "\n",
       " \n",
       "\n",
       "## Contacts\n",
       "\n",
       "* **Wrangler** [Eric Busboom](mailto:eric@civicknowledge.com), [Civic Knowledge](http://civicknowledge.com)\n",
       "\n",
       "## Resources\n",
       "\n",
       "* ** [public_schools](data/public_schools.csv)**. \n",
       "* ** [school_districts](data/school_districts.csv)**. \n",
       "* ** [private_schools](data/private_schools.csv)**. \n",
       "\n",
       "## References\n",
       "<ul><li> <strong><a href=\"https://www.cde.ca.gov/ds/si/ps/documents/privateschools1819.xlsx#headers=2&start=3\">private_schools_2018</a></strong>. </li><li> <strong><a href=\"https://www.cde.ca.gov/ds/si/ps/documents/privateschools1920.xlsx#headers=2&start=3\">private_schools_2019</a></strong>. </li><li> <strong><a href=\"https://www.cde.ca.gov/ds/si/ps/documents/privateschools2021.xlsx#headers=2&start=3\">private_schools_2020</a></strong>. </li><li> <strong><a href=\"https://www.cde.ca.gov/ds/si/ps/documents/privateschools2122.xlsx#headers=2&start=3\">private_schools_2021</a></strong>. </li><ul>\n"
      ]
     },
     "execution_count": 2,
     "metadata": {},
     "output_type": "execute_result"
    }
   ],
   "source": [
    "pkg = mp.jupyter.open_package()\n",
    "#pkg = mp.jupyter.open_source_package()\n",
    "pkg"
   ]
  },
  {
   "cell_type": "code",
   "execution_count": 8,
   "metadata": {},
   "outputs": [],
   "source": [
    "pvt = pkg.resource('private_schools').dataframe()"
   ]
  },
  {
   "cell_type": "code",
   "execution_count": 9,
   "metadata": {},
   "outputs": [
    {
     "data": {
      "text/plain": [
       "year\n",
       "2018    495496\n",
       "2019    483200\n",
       "2020    470960\n",
       "2021    487633\n",
       "Name: total_enroll, dtype: Int64"
      ]
     },
     "execution_count": 9,
     "metadata": {},
     "output_type": "execute_result"
    }
   ],
   "source": [
    "pvt.groupby('year').total_enroll.sum()"
   ]
  },
  {
   "cell_type": "code",
   "execution_count": 11,
   "metadata": {},
   "outputs": [
    {
     "data": {
      "text/plain": [
       "Index(['cdscode', 'ncesdist', 'ncesschool', 'statustype', 'county', 'district',\n",
       "       'school', 'street', 'streetabr', 'city', 'zip', 'state', 'mailstreet',\n",
       "       'mailstrabr', 'mailcity', 'mailzip', 'mailstate', 'phone', 'ext',\n",
       "       'faxnumber', 'email', 'website', 'opendate', 'closeddate', 'charter',\n",
       "       'charternum', 'fundingtype', 'doc', 'doctype', 'soc', 'soctype',\n",
       "       'edopscode', 'edopsname', 'eilcode', 'eilname', 'gsoffered', 'gsserved',\n",
       "       'virtual', 'magnet', 'yearroundyn', 'federaldfcdistrictid', 'latitude',\n",
       "       'longitude', 'admfname', 'admlname', 'admemail', 'lastupdate'],\n",
       "      dtype='object')"
      ]
     },
     "execution_count": 11,
     "metadata": {},
     "output_type": "execute_result"
    }
   ],
   "source": [
    "pub = pkg.resource('public_schools').dataframe()\n",
    "pub.columns"
   ]
  },
  {
   "cell_type": "code",
   "execution_count": 13,
   "metadata": {},
   "outputs": [
    {
     "data": {
      "text/plain": [
       "Index(['cd_code', 'county', 'district', 'street', 'city', 'zip', 'state',\n",
       "       'mailstreet', 'mailcity', 'mailzip', 'mailstate', 'phone', 'ext',\n",
       "       'faxnumber', 'email', 'admfname', 'admlname', 'admemail', 'latitude',\n",
       "       'longitude', 'doc', 'doctype', 'statustype', 'lastupdate'],\n",
       "      dtype='object')"
      ]
     },
     "execution_count": 13,
     "metadata": {},
     "output_type": "execute_result"
    }
   ],
   "source": [
    "pkg.resource('school_districts').dataframe().columns"
   ]
  },
  {
   "cell_type": "code",
   "execution_count": null,
   "metadata": {},
   "outputs": [],
   "source": []
  }
 ],
 "metadata": {
  "kernelspec": {
   "display_name": "Python 3",
   "language": "python",
   "name": "python3"
  },
  "language_info": {
   "codemirror_mode": {
    "name": "ipython",
    "version": 3
   },
   "file_extension": ".py",
   "mimetype": "text/x-python",
   "name": "python",
   "nbconvert_exporter": "python",
   "pygments_lexer": "ipython3",
   "version": "3.7.6"
  }
 },
 "nbformat": 4,
 "nbformat_minor": 4
}
